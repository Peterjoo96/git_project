{
 "cells": [
  {
   "cell_type": "code",
   "execution_count": 1,
   "id": "323b6ccc-e1fa-4e66-8645-db766ba744c0",
   "metadata": {},
   "outputs": [
    {
     "name": "stdout",
     "output_type": "stream",
     "text": [
      "셀당 작업자는 반드시 한 명\n",
      "해당 셀은 Member1이 작업함\n"
     ]
    }
   ],
   "source": [
    "print('셀당 작업자는 반드시 한 명')\n",
    "print('해당 셀은 Member1이 작업함')"
   ]
  },
  {
   "cell_type": "code",
   "execution_count": null,
   "id": "943fe6b9-568c-4bd9-8589-c3b7d7bc16ee",
   "metadata": {},
   "outputs": [],
   "source": []
  },
  {
   "cell_type": "code",
   "execution_count": null,
   "id": "37e064bb-1c2d-420e-bc3f-4aa3c80451e9",
   "metadata": {},
   "outputs": [],
   "source": []
  },
  {
   "cell_type": "code",
   "execution_count": null,
   "id": "5cc828ff-67a8-4433-8ea4-8549ad4b94bd",
   "metadata": {},
   "outputs": [],
   "source": []
  },
  {
   "cell_type": "code",
   "execution_count": null,
   "id": "a8a435f4-0288-4d0c-81d0-ae859024c3e4",
   "metadata": {},
   "outputs": [],
   "source": []
  },
  {
   "cell_type": "code",
   "execution_count": null,
   "id": "c0614f62-461f-4491-8abc-8800254f09b1",
   "metadata": {},
   "outputs": [],
   "source": []
  },
  {
   "cell_type": "code",
   "execution_count": null,
   "id": "9bbfe606-4c54-4751-bcc6-a9f2c77d4cba",
   "metadata": {},
   "outputs": [],
   "source": []
  },
  {
   "cell_type": "code",
   "execution_count": null,
   "id": "3763bb86-4893-43c1-a3b0-5dc005c1df94",
   "metadata": {},
   "outputs": [],
   "source": []
  },
  {
   "cell_type": "code",
   "execution_count": null,
   "id": "95ae69ad-ccba-41d8-a0d9-62d7f266f866",
   "metadata": {},
   "outputs": [],
   "source": []
  }
 ],
 "metadata": {
  "kernelspec": {
   "display_name": "Python 3 (ipykernel)",
   "language": "python",
   "name": "python3"
  },
  "language_info": {
   "codemirror_mode": {
    "name": "ipython",
    "version": 3
   },
   "file_extension": ".py",
   "mimetype": "text/x-python",
   "name": "python",
   "nbconvert_exporter": "python",
   "pygments_lexer": "ipython3",
   "version": "3.11.5"
  }
 },
 "nbformat": 4,
 "nbformat_minor": 5
}
