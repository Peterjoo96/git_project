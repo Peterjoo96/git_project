print('셀당 작업자는 반드시 한 명')
print('해당 셀은 Member1이 작업함')


print('Member1이 또 작업함')


print('Main에서 작업하는 것과 Branch에서 작업하는 것은 완전 다른 작업')
print('Main과 Branch를 오가는 작업을 Switch라고 함')


print('브랜치에서 작업함')















